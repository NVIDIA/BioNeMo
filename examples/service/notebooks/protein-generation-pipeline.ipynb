{
 "cells": [
  {
   "cell_type": "markdown",
   "metadata": {},
   "source": [
    "## Protein Generation and Structure Prediction with BioNemo\n",
    "\n",
    "This example notebook shows how to generate new protein sequences and predict folded protein structures using ProtGPT2 and AlphaFold pre-trained models via the BioNemo service API. These models were trained and deployed using NVIDIA's BioNeMo framework for Large Language Models. For more details, please visit NVIDIA BioNeMo Service at https://www.nvidia.com/en-us/gpu-cloud/bionemo/ \n",
    "\n",
    "This notebook will walk through protein generation and visualization following sections:\n",
    "\n",
    " - **BioNeMo Service Configuration**\n",
    "   - Install dependencies and define the BioNeMo service endpoint and API key required for access\n",
    " - **Generating Protein Sequences**\n",
    "   - Generate protein sequences with the ProtGPT2 model\n",
    " - **Predicting 3d Protein Structure**\n",
    "   - Predict the 3D structure of the generated proteins using AlphaFold\n",
    "\n",
    "### BioNeMo Service Configurations\n",
    "To get started, please configure and provide your NGC access token by visiting https://ngc.nvidia.com/setup/api-key"
   ]
  },
  {
   "cell_type": "code",
   "execution_count": 1,
   "metadata": {
    "tags": []
   },
   "outputs": [],
   "source": [
    "API_KEY = \"YOUR KEY HERE\"\n",
    "API_HOST = \"https://api.bionemo.ngc.nvidia.com/v1\""
   ]
  },
  {
   "cell_type": "markdown",
   "metadata": {},
   "source": [
    "Let's start by installing and importing library dependencies. We'll use _requests_ to interact with the BioNeMo service, and _py3Dmol_ for visualization."
   ]
  },
  {
   "cell_type": "code",
   "execution_count": null,
   "metadata": {
    "tags": []
   },
   "outputs": [],
   "source": [
    "!pip install py3dmol"
   ]
  },
  {
   "cell_type": "code",
   "execution_count": 3,
   "metadata": {
    "tags": []
   },
   "outputs": [],
   "source": [
    "import io\n",
    "import re\n",
    "import time\n",
    "import numpy\n",
    "import requests\n",
    "import json\n",
    "import requests\n",
    "\n",
    "import json\n",
    "import datetime\n",
    "import py3Dmol\n",
    "\n",
    "from typing import Iterable, Dict"
   ]
  },
  {
   "cell_type": "markdown",
   "metadata": {},
   "source": [
    "Next, we can configure the BioNeMo Service Client and validate our connection to the BioNeMo service host.  The BioNeMo Service Client is a Python interface to the BioNeMo Service API, exposing easy-to-use Python functions that allow users to direct access to state-of-the-art models with minimal configuration.  The BioNeMo Service Client is installed with a simple `pip install bionemo` and has been preinstalled in this container.\n",
    "\n",
    "To get started, we'll first instantiate the BioNeMo Service Client with our API_KEY and API_HOST defined above, and then query the service for the list of available models."
   ]
  },
  {
   "cell_type": "code",
   "execution_count": null,
   "metadata": {
    "tags": []
   },
   "outputs": [],
   "source": [
    "from bionemo.api import BionemoClient\n",
    "api = BionemoClient(api_key=API_KEY, api_host=API_HOST)\n",
    "models=api.list_models()\n",
    "models"
   ]
  },
  {
   "cell_type": "markdown",
   "metadata": {
    "tags": []
   },
   "source": [
    "The BioNeMo Python client offers two methods for querying BioNeMo Service:\n",
    " - _sychronous_, in which the service API call will block until a result is returned.\n",
    " - _asynchronous_ or nonblocking, which immediately return a handle called a _correlation_id_ that can be used to query the results.\n",
    "\n",
    "The BioNeMo Python client calls can be differentiated by their name.  Blocking _synchronous_ calls use the `_sync` suffix: `{model_id}_sync`, whereas non-blocking _asynchronous_ calls use the `_async` suffix: `{model_id}_async`.\n",
    "\n",
    "We will show examples of both forms in the following sections.  Blocking calls will be used when querying the UniProt ID for a protein sequence and generating protein sequences with ProtGPT2.  Non-blocking calls are used when batching requests to generate protein structures with AlphaFold.\n"
   ]
  },
  {
   "cell_type": "markdown",
   "metadata": {
    "id": "pz0zhFVS00ei"
   },
   "source": [
    "## Protein structure prediction via API request to BioNeMo Service\n",
    "\n",
    "In the following, we will demonstrate an example of protein structure prediction utilizing sequences we generate from an AI model. In this case we'll be using ProtGPT2, a langauge model that generates protein sequences that are similar to their natural counterparts.  But before we generate our own sequences, let's take a look at the BioNeMo UniProt lookup service. This can be leveraged to retrieve the sequence of a protein-of-interest, using the UniProt ID as input. Here we will be looking at [Thioredoxin](https://www.uniprot.org/uniprotkb/P10599/entry). This small protein plays a vital role in regulating cellular redox (reduction–oxidation) homeostasis by reducing disulfide bonds in proteins. It is found in most living organisms, from bacteria to humans. It acts as a reducing agent by donating electrons to other proteins to help maintain their proper shape and function. It also helps to remove reactive oxygen species (ROS) from cells, which can damage DNA, proteins, and lipids if not removed.\n",
    "\n",
    "Let's begin by retrieving the sequence for Thioredoxin, utilizing the BioNeMo UniProt lookup service.\n",
    "<div class=\"alert alert-block alert-info\">\n",
    "    <b>Tip:</b>  We use the specific sequence for Thioredoxin in this example workflow.  The UniProt ID lookup feature built in to BioNeMo Service allows a user to work with virtually any protein sequence.  Feel free to use this workflow as a starting point for your own experimentation!\n",
    "</div>"
   ]
  },
  {
   "cell_type": "code",
   "execution_count": null,
   "metadata": {
    "tags": []
   },
   "outputs": [],
   "source": [
    "uniprot_id=\"P10599\"\n",
    "original_sequence = api.get_uniprot(uniprot_id)\n",
    "print(original_sequence)"
   ]
  },
  {
   "cell_type": "markdown",
   "metadata": {},
   "source": [
    "Generating new protein sequences is a key component of protein engineering, which allows scientists to create proteins with specific functions and properties that may not exist in nature. These engineered proteins can be used in a variety of applications, including drug development, biocatalysis, and biomaterials, among others.\n",
    "\n",
    "It's important to choose your parameters for the protein generation process carefully.\n",
    "\n",
    "-   max_length: maximum number of generated tokens.\n",
    "        \n",
    "Note that common tokens in ProtGPT3 are k-mers of length 3, so 1 token = 3 amino acids. In other words, a max_length=400 could translate to an effective protein sequence of up to 1200 amino acids.\n",
    "\n",
    "- top_k: Sets the number of highest probability vocabulary tokens to keep for top-k-filtering\n",
    "- repetition_penalty: Sets the penalty for [repeating tokens](https://arxiv.org/pdf/1909.05858.pdf), where a value of 1 correspond to no penalty.\n",
    "- num_return_sequences: The effective number of whole protein sequences to return\n",
    "- percent_to_keep: Sets the percent of whole protein sequences to keep for each protein generation iteration cycle, based on their cumulative perplexity. \n",
    "\n",
    "As an illustrative example, suppose that 50 sequences of tokens are generated per itration. From these generated sequences of tokens (which could contain protein sequence fragments or other invalid # sequences), whole protein sequences are reconstructed. Let's suppose that there are 43 valid, whole protein sequences from the generative iteration. Of these 43 whole protein sequences, only the top `percent_to_keep`, according to perplexity, are kept. For instance, with percent_to_keep=10, only ~4 of the 43 sequences (i.e., ~10% of 43) will be kept. After these 4 sequences are added to the return object, the generation process will resume until `num_return_sequences` is reached. Therefore - the lower the value of `percent_to_keep`, the longer the overall generation process will take.\n",
    "\n",
    "Now let's define a sane set of parameters for our example problem."
   ]
  },
  {
   "cell_type": "markdown",
   "metadata": {},
   "source": [
    "Now we can submit our service request to BioNeMo. We'll use the blocking call `protgpt2_sync()` to generate results. With the chosen input parameters, we expect to obtain 5 new sequences."
   ]
  },
  {
   "cell_type": "code",
   "execution_count": null,
   "metadata": {
    "tags": []
   },
   "outputs": [],
   "source": [
    "generated_sequences = api.protgpt2_sync(\n",
    "    max_length=100,\n",
    "    top_k=950,\n",
    "    repetition_penalty=1.2,\n",
    "    num_return_sequences=5,\n",
    "    percent_to_keep=0.1\n",
    ")\n",
    "print(generated_sequences)"
   ]
  },
  {
   "cell_type": "markdown",
   "metadata": {},
   "source": [
    "With our sequences in hand, we're ready to predict the corresponding protein structures using the BioNeMo folding services. We'll use AlphaFold to fold both the original protein and the first generated sequence using synchronous calls to the API.  These will be used to visualize the protein structures.\n"
   ]
  },
  {
   "cell_type": "code",
   "execution_count": 7,
   "metadata": {
    "tags": []
   },
   "outputs": [],
   "source": [
    "# First let's generate the protein structure for Human Thioredoxin as sourced from UniProt\n",
    "# and the first generated sequence.\n",
    "\n",
    "original_result=api.alphafold_sync(original_sequence)\n",
    "with open(\"data/BioNeMo_AlphaFold_original.pdb\", \"w\") as f:\n",
    "    f.write(original_result)\n",
    "    \n",
    "generated_result=api.alphafold_sync(generated_sequences['generated_sequences'][0])\n",
    "with open(\"data/BioNeMo_AlphaFold_generated.pdb\", \"w\") as f:\n",
    "    f.write(generated_result)"
   ]
  },
  {
   "cell_type": "markdown",
   "metadata": {},
   "source": [
    "We can also take advantage of the ascynchronous nature of the folding services.  Here we will batch and submit requests for the remaining generated sequences before waiting for any service response.  We'll then query the _correlation_ids_ to write the results to files once complete.  This can be useful when querying large batches of input sequences.\n",
    "\n",
    "_Note: this can take some time.  Feel free to skip the following two cells and carry on with visualization below._"
   ]
  },
  {
   "cell_type": "code",
   "execution_count": null,
   "metadata": {
    "tags": []
   },
   "outputs": [],
   "source": [
    "# First we'll submit asynchronous requests for the remaining generated sequences.\n",
    "correlation_ids=[]\n",
    "for sequence in generated_sequences['generated_sequences'][1:len(generated_sequences['generated_sequences'])]:\n",
    "    request_id=api.alphafold_async(sequence)\n",
    "    correlation_ids.append(request_id)\n",
    "print(correlation_ids)"
   ]
  },
  {
   "cell_type": "code",
   "execution_count": 27,
   "metadata": {
    "tags": []
   },
   "outputs": [],
   "source": [
    "# Now we can query the correlation_ids and write the resulting PDB to a file when ready.\n",
    "while len(correlation_ids):\n",
    "    time.sleep(10)\n",
    "    for request_id in correlation_ids:\n",
    "        if api.fetch_task_status(request_id) == \"DONE\":\n",
    "            alphafold_result=api.fetch_result(request_id)\n",
    "            with open(f'data/{request_id}.pdb', \"w\") as f:\n",
    "                f.write(alphafold_result)\n",
    "            correlation_ids.remove(request_id)"
   ]
  },
  {
   "cell_type": "markdown",
   "metadata": {},
   "source": [
    "### Understanding the asynchronous response\n",
    "\n",
    "The BioNeMo Server will respond with a `correlation_id`, indicating a unique identifier for the request. Once the request is submitted, it is queued for processing. As soon as a processing slot is available, the structure prediction process is started. You can keep an eye on the submission request by querying the Server with the `correlation_id`.\n",
    "\n",
    "In the code above, we waited for the status to be completed in order to download the structure prediction and save it into a pdb file that we then can visualize.\n",
    "\n",
    "More information about the API can be found here: https://developer.nvidia.com/docs/bionemo-service/working-with-the-api.html"
   ]
  },
  {
   "cell_type": "markdown",
   "metadata": {},
   "source": [
    "## Visualizing the predicted structures and prediction confidence\n",
    "\n",
    "Finally, we visualize the predictions in 3D using [*py3Dmol*](https://pypi.org/project/py3Dmol/).\n",
    "\n",
    "We take advantage of the predicted IDDT, i.e., a proxy to model confidence, and visualize it as a color similar to AlpaFold2.  In this color scheme, we bin the confidence intervals as:\n",
    " - <span style=\"color:blue\">&#11035;</span> (dark blue, very high) - 90-100%</span>\n",
    " - <span style=\"color:lightblue\">&#11035;</span> (light blue, confident) - 70-90%\n",
    " - <span style=\"color:yellow\">&#11035;</span> (yellow, low) - 50-70%\n",
    " - <span style=\"color:orange\">&#11035;</span> (orange, very low) - <50%\n",
    "\n",
    "Regions in dark blue, with very high confidence, are expected to be modeled with high accuracy and can be used in applications that require high accuracy such as identifying binding sites.  Light blue regions with 70-90% confidence are expected to model general structure well.  Regions with low 50-70% confidence should be treated with caution, and below 50% confidence should not be used.\n",
    "\n",
    "In the visualizations below, we show the two cases from the examples above:\n",
    " - The predicted structure of the original Thioredoxin sequence from the UniProt sequence look-up service, and\n",
    " - The predicted structure of the novel protein sequence generated with ProtGPT\n",
    " \n",
    "Note that these are independent structures.  The following visualizations are not intended for comparison, but rather to showcase the ability to predict 3D structure using AlphaFold."
   ]
  },
  {
   "cell_type": "code",
   "execution_count": 8,
   "metadata": {
    "tags": []
   },
   "outputs": [],
   "source": [
    "# Define color palette for IDDT\n",
    "color_palette = {\n",
    "    range(90,100): 'blue',\n",
    "    range(70,90): 'lightblue',\n",
    "    range(50,70): 'yellow',\n",
    "    range(0,50): 'orange',\n",
    "}\n",
    "\n",
    "def get_color(IDDT):\n",
    "    for key in color_palette:\n",
    "        if IDDT in key:\n",
    "            return color_palette[key]"
   ]
  },
  {
   "cell_type": "markdown",
   "metadata": {},
   "source": [
    "First the original Thioredoxin structure:"
   ]
  },
  {
   "cell_type": "code",
   "execution_count": null,
   "metadata": {
    "tags": []
   },
   "outputs": [],
   "source": [
    "filename=\"data/BioNeMo_AlphaFold_original.pdb\"\n",
    "# Loading the predicted structure saved in PDB file\n",
    "with open(filename) as ifile:\n",
    "    system = \"\".join([x for x in ifile])\n",
    "\n",
    "#configuring the structure display\n",
    "view = py3Dmol.view(width=800, height=800)\n",
    "view.addModelsAsFrames(system)\n",
    "\n",
    "# Iterate over residues and color based on IDDT value\n",
    "for i, line in enumerate(system.split(\"\\n\")):\n",
    "    split = line.split()\n",
    "    if len(split) == 0 or split[0] != \"ATOM\":\n",
    "        continue\n",
    "\n",
    "    color = get_color(int(float(split[10])))\n",
    "    \n",
    "    view.setStyle({'model': -1, 'serial': i+1}, {\"cartoon\": {'color': color}})\n",
    "\n",
    "view.zoomTo()\n",
    "view.show()"
   ]
  },
  {
   "cell_type": "markdown",
   "metadata": {},
   "source": [
    "Next the predicted structure of the generated sequence."
   ]
  },
  {
   "cell_type": "code",
   "execution_count": null,
   "metadata": {
    "tags": []
   },
   "outputs": [],
   "source": [
    "filename=\"data/BioNeMo_AlphaFold_generated.pdb\"\n",
    "# Loading the predicted structure saved in PDB file\n",
    "with open(filename) as ifile:\n",
    "    system = \"\".join([x for x in ifile])\n",
    "\n",
    "#configuring the structure display\n",
    "view = py3Dmol.view(width=800, height=800)\n",
    "view.addModelsAsFrames(system)\n",
    "\n",
    "# Iterate over residues and color based on IDDT value\n",
    "for i, line in enumerate(system.split(\"\\n\")):\n",
    "    split = line.split()\n",
    "    if len(split) == 0 or split[0] != \"ATOM\":\n",
    "        continue\n",
    "\n",
    "    color = get_color(int(float(split[10])))\n",
    "    \n",
    "    view.setStyle({'model': -1, 'serial': i+1}, {\"cartoon\": {'color': color}})\n",
    "\n",
    "view.zoomTo()\n",
    "view.show()"
   ]
  },
  {
   "cell_type": "markdown",
   "metadata": {},
   "source": [
    "## Conclusion\n",
    "In this notebook, we've walked through an example workflow generating protein sequences and visualizing their 3D structure, covering:\n",
    " - How to configure the BioNeMo Service API\n",
    " - Generating protein sequences with the ProtGPT2 model\n",
    " - Predicting 3D protein structure of the generated sequences using AlphaFold\n",
    " \n",
    "While this notebook demonstrates some of the rich capabilities of the BioNeMo service, this could just be the beginning of a production end-to-end drug discovery pipeline."
   ]
  },
  {
   "cell_type": "code",
   "execution_count": null,
   "metadata": {},
   "outputs": [],
   "source": []
  }
 ],
 "metadata": {
  "accelerator": "GPU",
  "colab": {
   "collapsed_sections": [
    "scfLT2i0MLyD",
    "CtNdk7PSafKP"
   ],
   "provenance": []
  },
  "gpuClass": "standard",
  "kernelspec": {
   "display_name": "Python 3 (ipykernel)",
   "language": "python",
   "name": "python3"
  },
  "language_info": {
   "codemirror_mode": {
    "name": "ipython",
    "version": 3
   },
   "file_extension": ".py",
   "mimetype": "text/x-python",
   "name": "python",
   "nbconvert_exporter": "python",
   "pygments_lexer": "ipython3",
   "version": "3.9.13"
  },
  "vscode": {
   "interpreter": {
    "hash": "31f2aee4e71d21fbe5cf8b01ff0e069b9275f58929596ceb00d14d90e3e16cd6"
   }
  }
 },
 "nbformat": 4,
 "nbformat_minor": 4
}
